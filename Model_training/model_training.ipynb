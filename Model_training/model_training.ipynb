{
 "cells": [
  {
   "cell_type": "code",
   "execution_count": 1,
   "metadata": {},
   "outputs": [],
   "source": [
    "# Importing Libraries\n",
    "import pandas as pd\n",
    "import numpy as np\n",
    "import matplotlib.pyplot as plt"
   ]
  },
  {
   "cell_type": "code",
   "execution_count": 2,
   "metadata": {},
   "outputs": [],
   "source": [
    "# Loading Data\n",
    "df = pd.read_csv('E:\\smart_internz\\Data_collection\\COVID-19_Sentiments.csv')"
   ]
  },
  {
   "cell_type": "code",
   "execution_count": 3,
   "metadata": {},
   "outputs": [
    {
     "data": {
      "text/html": [
       "<div>\n",
       "<style scoped>\n",
       "    .dataframe tbody tr th:only-of-type {\n",
       "        vertical-align: middle;\n",
       "    }\n",
       "\n",
       "    .dataframe tbody tr th {\n",
       "        vertical-align: top;\n",
       "    }\n",
       "\n",
       "    .dataframe thead th {\n",
       "        text-align: right;\n",
       "    }\n",
       "</style>\n",
       "<table border=\"1\" class=\"dataframe\">\n",
       "  <thead>\n",
       "    <tr style=\"text-align: right;\">\n",
       "      <th></th>\n",
       "      <th>Text_Id</th>\n",
       "      <th>Text</th>\n",
       "      <th>Date</th>\n",
       "      <th>Location</th>\n",
       "      <th>Sentiments</th>\n",
       "    </tr>\n",
       "  </thead>\n",
       "  <tbody>\n",
       "    <tr>\n",
       "      <th>0</th>\n",
       "      <td>1241032866567356417</td>\n",
       "      <td>RT @theskindoctor13: Shaheen Bagh is still on....</td>\n",
       "      <td>Fri Mar 20 16:04:27 +0000 2020</td>\n",
       "      <td>Uttar Pradesh, India</td>\n",
       "      <td>0.000</td>\n",
       "    </tr>\n",
       "    <tr>\n",
       "      <th>1</th>\n",
       "      <td>1241032867699765249</td>\n",
       "      <td>RT @theskindoctor13: Shaheen Bagh is still on....</td>\n",
       "      <td>Fri Mar 20 16:04:27 +0000 2020</td>\n",
       "      <td>Mumbai</td>\n",
       "      <td>0.000</td>\n",
       "    </tr>\n",
       "    <tr>\n",
       "      <th>2</th>\n",
       "      <td>1241032875102703616</td>\n",
       "      <td>RT @SmokingSkills_: Daughter of an IAS, son of...</td>\n",
       "      <td>Fri Mar 20 16:04:29 +0000 2020</td>\n",
       "      <td>Jodhpur, India</td>\n",
       "      <td>0.350</td>\n",
       "    </tr>\n",
       "    <tr>\n",
       "      <th>3</th>\n",
       "      <td>1241032877099237379</td>\n",
       "      <td>RT @narendramodi: The young actors have someth...</td>\n",
       "      <td>Fri Mar 20 16:04:29 +0000 2020</td>\n",
       "      <td>Gurugram, Bharat</td>\n",
       "      <td>0.125</td>\n",
       "    </tr>\n",
       "    <tr>\n",
       "      <th>4</th>\n",
       "      <td>1241032870405128192</td>\n",
       "      <td>RT @theskindoctor13: Shaheen Bagh is still on....</td>\n",
       "      <td>Fri Mar 20 16:04:28 +0000 2020</td>\n",
       "      <td>New Delhi, India</td>\n",
       "      <td>0.000</td>\n",
       "    </tr>\n",
       "  </tbody>\n",
       "</table>\n",
       "</div>"
      ],
      "text/plain": [
       "               Text_Id                                               Text  \\\n",
       "0  1241032866567356417  RT @theskindoctor13: Shaheen Bagh is still on....   \n",
       "1  1241032867699765249  RT @theskindoctor13: Shaheen Bagh is still on....   \n",
       "2  1241032875102703616  RT @SmokingSkills_: Daughter of an IAS, son of...   \n",
       "3  1241032877099237379  RT @narendramodi: The young actors have someth...   \n",
       "4  1241032870405128192  RT @theskindoctor13: Shaheen Bagh is still on....   \n",
       "\n",
       "                             Date              Location  Sentiments  \n",
       "0  Fri Mar 20 16:04:27 +0000 2020  Uttar Pradesh, India       0.000  \n",
       "1  Fri Mar 20 16:04:27 +0000 2020                Mumbai       0.000  \n",
       "2  Fri Mar 20 16:04:29 +0000 2020        Jodhpur, India       0.350  \n",
       "3  Fri Mar 20 16:04:29 +0000 2020      Gurugram, Bharat       0.125  \n",
       "4  Fri Mar 20 16:04:28 +0000 2020      New Delhi, India       0.000  "
      ]
     },
     "execution_count": 3,
     "metadata": {},
     "output_type": "execute_result"
    }
   ],
   "source": [
    "df.head()"
   ]
  },
  {
   "cell_type": "code",
   "execution_count": 4,
   "metadata": {},
   "outputs": [],
   "source": [
    "# Modifying Date\n",
    "df['Date'] = pd.to_datetime(df['Date']).dt.date"
   ]
  },
  {
   "cell_type": "code",
   "execution_count": 5,
   "metadata": {},
   "outputs": [],
   "source": [
    "# Creating new_sentiments column out of polarities in sentiments\n",
    "New_Sentiments_ls = []\n",
    "\n",
    "for senti in df['Sentiments']:\n",
    "    if senti < 0:\n",
    "        New_Sentiments_ls.append(-1)\n",
    "    elif senti > 0:\n",
    "        New_Sentiments_ls.append(1)\n",
    "    else:\n",
    "        New_Sentiments_ls.append(0)\n",
    "\n",
    "New_Sentiments_ls = pd.DataFrame(New_Sentiments_ls, columns=['New_Sentiments'])\n",
    "\n",
    "df = pd.concat([df, New_Sentiments_ls], axis=1)"
   ]
  },
  {
   "cell_type": "code",
   "execution_count": 6,
   "metadata": {},
   "outputs": [
    {
     "data": {
      "text/html": [
       "<div>\n",
       "<style scoped>\n",
       "    .dataframe tbody tr th:only-of-type {\n",
       "        vertical-align: middle;\n",
       "    }\n",
       "\n",
       "    .dataframe tbody tr th {\n",
       "        vertical-align: top;\n",
       "    }\n",
       "\n",
       "    .dataframe thead th {\n",
       "        text-align: right;\n",
       "    }\n",
       "</style>\n",
       "<table border=\"1\" class=\"dataframe\">\n",
       "  <thead>\n",
       "    <tr style=\"text-align: right;\">\n",
       "      <th></th>\n",
       "      <th>Text_Id</th>\n",
       "      <th>Text</th>\n",
       "      <th>Date</th>\n",
       "      <th>Location</th>\n",
       "      <th>Sentiments</th>\n",
       "      <th>New_Sentiments</th>\n",
       "    </tr>\n",
       "  </thead>\n",
       "  <tbody>\n",
       "    <tr>\n",
       "      <th>0</th>\n",
       "      <td>1241032866567356417</td>\n",
       "      <td>RT @theskindoctor13: Shaheen Bagh is still on....</td>\n",
       "      <td>2020-03-20</td>\n",
       "      <td>Uttar Pradesh, India</td>\n",
       "      <td>0.000</td>\n",
       "      <td>0</td>\n",
       "    </tr>\n",
       "    <tr>\n",
       "      <th>1</th>\n",
       "      <td>1241032867699765249</td>\n",
       "      <td>RT @theskindoctor13: Shaheen Bagh is still on....</td>\n",
       "      <td>2020-03-20</td>\n",
       "      <td>Mumbai</td>\n",
       "      <td>0.000</td>\n",
       "      <td>0</td>\n",
       "    </tr>\n",
       "    <tr>\n",
       "      <th>2</th>\n",
       "      <td>1241032875102703616</td>\n",
       "      <td>RT @SmokingSkills_: Daughter of an IAS, son of...</td>\n",
       "      <td>2020-03-20</td>\n",
       "      <td>Jodhpur, India</td>\n",
       "      <td>0.350</td>\n",
       "      <td>1</td>\n",
       "    </tr>\n",
       "    <tr>\n",
       "      <th>3</th>\n",
       "      <td>1241032877099237379</td>\n",
       "      <td>RT @narendramodi: The young actors have someth...</td>\n",
       "      <td>2020-03-20</td>\n",
       "      <td>Gurugram, Bharat</td>\n",
       "      <td>0.125</td>\n",
       "      <td>1</td>\n",
       "    </tr>\n",
       "    <tr>\n",
       "      <th>4</th>\n",
       "      <td>1241032870405128192</td>\n",
       "      <td>RT @theskindoctor13: Shaheen Bagh is still on....</td>\n",
       "      <td>2020-03-20</td>\n",
       "      <td>New Delhi, India</td>\n",
       "      <td>0.000</td>\n",
       "      <td>0</td>\n",
       "    </tr>\n",
       "  </tbody>\n",
       "</table>\n",
       "</div>"
      ],
      "text/plain": [
       "               Text_Id                                               Text  \\\n",
       "0  1241032866567356417  RT @theskindoctor13: Shaheen Bagh is still on....   \n",
       "1  1241032867699765249  RT @theskindoctor13: Shaheen Bagh is still on....   \n",
       "2  1241032875102703616  RT @SmokingSkills_: Daughter of an IAS, son of...   \n",
       "3  1241032877099237379  RT @narendramodi: The young actors have someth...   \n",
       "4  1241032870405128192  RT @theskindoctor13: Shaheen Bagh is still on....   \n",
       "\n",
       "         Date              Location  Sentiments  New_Sentiments  \n",
       "0  2020-03-20  Uttar Pradesh, India       0.000               0  \n",
       "1  2020-03-20                Mumbai       0.000               0  \n",
       "2  2020-03-20        Jodhpur, India       0.350               1  \n",
       "3  2020-03-20      Gurugram, Bharat       0.125               1  \n",
       "4  2020-03-20      New Delhi, India       0.000               0  "
      ]
     },
     "execution_count": 6,
     "metadata": {},
     "output_type": "execute_result"
    }
   ],
   "source": [
    "df.head()"
   ]
  },
  {
   "cell_type": "markdown",
   "metadata": {},
   "source": [
    "## Cleaning the text"
   ]
  },
  {
   "cell_type": "code",
   "execution_count": 7,
   "metadata": {},
   "outputs": [],
   "source": [
    "# Cleaning the text\n",
    "def func(x):\n",
    "    try:\n",
    "        trial = x.split(':')[1]\n",
    "        return trial\n",
    "    except:\n",
    "        return x\n",
    "df['Regenerated_Text'] = df['Text'].apply(lambda x: func(x))"
   ]
  },
  {
   "cell_type": "code",
   "execution_count": 8,
   "metadata": {},
   "outputs": [],
   "source": [
    "# Converting to lower case\n",
    "df['Regenerated_Text'] = df['Regenerated_Text'].apply(lambda x: x.lower())\n",
    "\n",
    "# Removing urls\n",
    "df['Regenerated_Text'] = df['Regenerated_Text'].apply(lambda x: x.split('https')[0])\n",
    "df['Regenerated_Text'] = df['Regenerated_Text'].apply(lambda x: x.split('http')[0])\n",
    "\n",
    "# Converting #word into just word\n",
    "df['Regenerated_Text'] = df['Regenerated_Text'].str.replace('#', '')\n",
    "\n",
    "# Remove @username\n",
    "df['Regenerated_Text'] = df['Regenerated_Text'].str.replace('@[^\\s]+','')\n",
    "\n",
    "# Removing unwanted char\n",
    "df['Regenerated_Text'] = df['Regenerated_Text'].str.replace(\"(@[A-Za-z0-9]+)|([^0-9A-Za-z \\t])|(\\w+:\\/\\/\\S+)\", \" \")    \n",
    "\n",
    "# Remove additional white spaces\n",
    "df['Regenerated_Text'] = df['Regenerated_Text'].str.replace('[\\s]+', ' ')"
   ]
  },
  {
   "cell_type": "code",
   "execution_count": null,
   "metadata": {},
   "outputs": [],
   "source": [
    "df.head()"
   ]
  }
 ],
 "metadata": {
  "kernelspec": {
   "display_name": "Python 3",
   "language": "python",
   "name": "python3"
  },
  "language_info": {
   "codemirror_mode": {
    "name": "ipython",
    "version": 3
   },
   "file_extension": ".py",
   "mimetype": "text/x-python",
   "name": "python",
   "nbconvert_exporter": "python",
   "pygments_lexer": "ipython3",
   "version": "3.7.3"
  }
 },
 "nbformat": 4,
 "nbformat_minor": 2
}